{
  "nbformat": 4,
  "nbformat_minor": 0,
  "metadata": {
    "colab": {
      "provenance": [],
      "collapsed_sections": [
        "WjXZSrvZzpda",
        "uF6QF2c4BFei",
        "icGdyoc5O3J2",
        "eiFbtGsrj8Xy",
        "41T_uRR8_bHV",
        "kMC6Q6IODLS6",
        "nZlODtvdzzLT",
        "_-is4m2fz5FJ"
      ],
      "include_colab_link": true
    },
    "kernelspec": {
      "name": "python3",
      "display_name": "Python 3"
    },
    "language_info": {
      "name": "python"
    }
  },
  "cells": [
    {
      "cell_type": "markdown",
      "metadata": {
        "id": "view-in-github",
        "colab_type": "text"
      },
      "source": [
        "<a href=\"https://colab.research.google.com/github/garvitbhardwajj/new_repo/blob/main/Exploratory_Data_Analysis_Case_Study.ipynb\" target=\"_parent\"><img src=\"https://colab.research.google.com/assets/colab-badge.svg\" alt=\"Open In Colab\"/></a>"
      ]
    },
    {
      "cell_type": "markdown",
      "metadata": {
        "id": "WjXZSrvZzpda"
      },
      "source": [
        "# **👨🏻‍🎓 Learning Objective 👨🏻‍🎓**"
      ]
    },
    {
      "cell_type": "markdown",
      "source": [
        "###**Introduction**"
      ],
      "metadata": {
        "id": "2Cc3XwD6NeIx"
      }
    },
    {
      "cell_type": "markdown",
      "source": [
        "📢**Attention Students**! 🎓\n",
        "\n",
        "🚗 Get ready to rev up your data analysis skills as we dive into an exciting case study on EDA of Automobile Dataset! 📊📈\n",
        "\n",
        "🔍 During the course of this case study, we'll be covering a wide range of topics including Data Exploration 🕵️‍♂️, Cleaning 🧹, Investigation 🔬 and forming inferences 💡 that'll help you gain a deeper understanding of this fascinating dataset. 🤓\n",
        "\n",
        "🏎️ So fasten your seatbelts and get ready for an exciting ride as we explore the world of data analysis together! 🚀"
      ],
      "metadata": {
        "id": "geecb-kFNgSu"
      }
    },
    {
      "cell_type": "markdown",
      "source": [
        "###**Primary Goals**"
      ],
      "metadata": {
        "id": "7XRytIt-N-Sv"
      }
    },
    {
      "cell_type": "markdown",
      "source": [
        "🎯 To develop an understanding of the process of exploratory data analysis (EDA) and its importance in data analysis.\n",
        "\n",
        "🎯 To learn how to explore and analyze a real-world dataset using Python programming language and its data analysis libraries such as Pandas, NumPy, and Matplotlib.\n",
        "\n",
        "🎯 To gain expertise in various EDA techniques including data cleaning, data preprocessing, feature engineering, data visualization, and statistical analysis.\n",
        "\n",
        "🎯 To be able to interpret and communicate insights and inferences derived from the data analysis, and use them to draw meaningful conclusions.\n",
        "\n",
        "🎯 To develop critical thinking and problem-solving skills required for data analysis in various domains such as business, finance, healthcare, and social sciences.\n",
        "\n",
        "🎯 To have a hands-on experience with the EDA process and gain confidence in working with real-world datasets.\n",
        "\n",
        "\n",
        "\n",
        "\n"
      ],
      "metadata": {
        "id": "VbGaONtbOCcw"
      }
    },
    {
      "cell_type": "markdown",
      "source": [
        "# **📖 Learning Material 📖**\n"
      ],
      "metadata": {
        "id": "wuF_AEvm5eqq"
      }
    },
    {
      "cell_type": "markdown",
      "source": [
        "##**Dataset Description:**"
      ],
      "metadata": {
        "id": "uF6QF2c4BFei"
      }
    },
    {
      "cell_type": "markdown",
      "source": [
        "**Here is the dataset that we will be using:**\n",
        "\n",
        " [Link](https://drive.google.com/file/d/13pCKXi7EAbXUWTwvi6xWYS9V2AfsCQHK/view?usp=sharing)\n",
        "\n"
      ],
      "metadata": {
        "id": "_UPVO-nBvEaG"
      }
    },
    {
      "cell_type": "markdown",
      "source": [
        "🚗 The automobile dataset contains information on various attributes of cars, such as their make, model, fuel type, engine displacement, horsepower, and price. The dataset includes a total of 205 instances, with 26 different attributes.\n",
        "\n",
        "\n",
        "📊Some of the features in the dataset include the car's symboling (an insurance risk rating) 🔢, normalized losses (average loss payment per insured vehicle year) 💰, make and model 🚗, fuel type ⛽️, aspiration type (standard or turbo) 🔥, number of doors 🚪, body style 👥, drive wheels (front, rear, or four-wheel drive) 🚙, engine location (front or rear) , engine type (diesel or gas) ⛽️, number of cylinders 🔢, engine size 🔧, fuel system ⛽️, bore (diameter of the engine cylinder) 📏, stroke (distance the piston moves in the cylinder) 📈, compression ratio 🔧, horsepower 🐴, peak rpm (engine revolutions per minute at which the engine produces the maximum power) 🔄, city and highway miles per gallon 🛣️, and price 💰.\n",
        "\n",
        "🤖 This dataset can be used for various machine learning tasks, such as regression (predicting the price of the car based on its features), classification (classifying the cars based on their body style, make, or other attributes), and clustering (finding groups of similar cars based on their features).\n",
        "\n",
        "🚀 It is a useful dataset for those interested in the automotive industry or for those interested in exploring machine learning techniques on a real-world dataset."
      ],
      "metadata": {
        "id": "7C6TbtICBI9M"
      }
    },
    {
      "cell_type": "markdown",
      "source": [
        "We start the Exploratory Data Analysis process by importing the required libraries."
      ],
      "metadata": {
        "id": "BdUipOrG5i5W"
      }
    },
    {
      "cell_type": "code",
      "execution_count": null,
      "metadata": {
        "id": "9Vo3YFDXvrNj"
      },
      "outputs": [],
      "source": [
        "import pandas as pd\n",
        "import numpy as np"
      ]
    },
    {
      "cell_type": "code",
      "source": [
        "#mounting your drive, so that you can access the files there\n",
        "#you'll receive a authentication prompt. Complete it.\n",
        "from google.colab import drive\n",
        "drive.mount('/content/drive')"
      ],
      "metadata": {
        "colab": {
          "base_uri": "https://localhost:8080/"
        },
        "id": "nii7lZEuxOPW",
        "outputId": "b36d177d-8efb-4fca-de63-1e851358b456"
      },
      "execution_count": null,
      "outputs": [
        {
          "output_type": "stream",
          "name": "stdout",
          "text": [
            "Drive already mounted at /content/drive; to attempt to forcibly remount, call drive.mount(\"/content/drive\", force_remount=True).\n"
          ]
        }
      ]
    },
    {
      "cell_type": "code",
      "source": [
        "filepath=\"/content/automobile_data.csv\"\n",
        "auto_df=pd.read_csv(filepath)"
      ],
      "metadata": {
        "id": "QAdGKcyFxOSw"
      },
      "execution_count": null,
      "outputs": []
    },
    {
      "cell_type": "markdown",
      "source": [
        "*auto_df is a Pandas dataframe object that contains the automobile dataset, and can be used to perform various operations on the data, such as filtering, sorting, grouping, and visualization.*"
      ],
      "metadata": {
        "id": "AF0__s4SBiIq"
      }
    },
    {
      "cell_type": "code",
      "source": [
        "auto_df"
      ],
      "metadata": {
        "colab": {
          "base_uri": "https://localhost:8080/",
          "height": 574
        },
        "id": "ssIQ6KzqxaJr",
        "outputId": "a7bf4374-f591-4577-f915-7d27ae5d9c24"
      },
      "execution_count": null,
      "outputs": [
        {
          "output_type": "execute_result",
          "data": {
            "text/plain": [
              "     symboling normalized-losses         make fuel-type aspiration  \\\n",
              "0            3                 ?  alfa-romero       gas        std   \n",
              "1            3                 ?  alfa-romero       gas        std   \n",
              "2            1                 ?  alfa-romero       gas        std   \n",
              "3            2               164         audi       gas        std   \n",
              "4            2               164         audi       gas        std   \n",
              "..         ...               ...          ...       ...        ...   \n",
              "200         -1                95        volvo       gas        std   \n",
              "201         -1                95        volvo       gas      turbo   \n",
              "202         -1                95        volvo       gas        std   \n",
              "203         -1                95        volvo    diesel      turbo   \n",
              "204         -1                95        volvo       gas      turbo   \n",
              "\n",
              "    num-of-doors   body-style drive-wheels engine-location  wheel-base  ...  \\\n",
              "0            two  convertible          rwd           front        88.6  ...   \n",
              "1            two  convertible          rwd           front        88.6  ...   \n",
              "2            two    hatchback          rwd           front        94.5  ...   \n",
              "3           four        sedan          fwd           front        99.8  ...   \n",
              "4           four        sedan          4wd           front        99.4  ...   \n",
              "..           ...          ...          ...             ...         ...  ...   \n",
              "200         four        sedan          rwd           front       109.1  ...   \n",
              "201         four        sedan          rwd           front       109.1  ...   \n",
              "202         four        sedan          rwd           front       109.1  ...   \n",
              "203         four        sedan          rwd           front       109.1  ...   \n",
              "204         four        sedan          rwd           front       109.1  ...   \n",
              "\n",
              "     engine-size  fuel-system  bore  stroke compression-ratio horsepower  \\\n",
              "0            130         mpfi  3.47    2.68               9.0        111   \n",
              "1            130         mpfi  3.47    2.68               9.0        111   \n",
              "2            152         mpfi  2.68    3.47               9.0        154   \n",
              "3            109         mpfi  3.19     3.4              10.0        102   \n",
              "4            136         mpfi  3.19     3.4               8.0        115   \n",
              "..           ...          ...   ...     ...               ...        ...   \n",
              "200          141         mpfi  3.78    3.15               9.5        114   \n",
              "201          141         mpfi  3.78    3.15               8.7        160   \n",
              "202          173         mpfi  3.58    2.87               8.8        134   \n",
              "203          145          idi  3.01     3.4              23.0        106   \n",
              "204          141         mpfi  3.78    3.15               9.5        114   \n",
              "\n",
              "     peak-rpm city-mpg highway-mpg  price  \n",
              "0        5000       21          27  13495  \n",
              "1        5000       21          27  16500  \n",
              "2        5000       19          26  16500  \n",
              "3        5500       24          30  13950  \n",
              "4        5500       18          22  17450  \n",
              "..        ...      ...         ...    ...  \n",
              "200      5400       23          28  16845  \n",
              "201      5300       19          25  19045  \n",
              "202      5500       18          23  21485  \n",
              "203      4800       26          27  22470  \n",
              "204      5400       19          25  22625  \n",
              "\n",
              "[205 rows x 26 columns]"
            ],
            "text/html": [
              "\n",
              "  <div id=\"df-26633f26-cba9-4b97-b760-baab06c1b6d9\">\n",
              "    <div class=\"colab-df-container\">\n",
              "      <div>\n",
              "<style scoped>\n",
              "    .dataframe tbody tr th:only-of-type {\n",
              "        vertical-align: middle;\n",
              "    }\n",
              "\n",
              "    .dataframe tbody tr th {\n",
              "        vertical-align: top;\n",
              "    }\n",
              "\n",
              "    .dataframe thead th {\n",
              "        text-align: right;\n",
              "    }\n",
              "</style>\n",
              "<table border=\"1\" class=\"dataframe\">\n",
              "  <thead>\n",
              "    <tr style=\"text-align: right;\">\n",
              "      <th></th>\n",
              "      <th>symboling</th>\n",
              "      <th>normalized-losses</th>\n",
              "      <th>make</th>\n",
              "      <th>fuel-type</th>\n",
              "      <th>aspiration</th>\n",
              "      <th>num-of-doors</th>\n",
              "      <th>body-style</th>\n",
              "      <th>drive-wheels</th>\n",
              "      <th>engine-location</th>\n",
              "      <th>wheel-base</th>\n",
              "      <th>...</th>\n",
              "      <th>engine-size</th>\n",
              "      <th>fuel-system</th>\n",
              "      <th>bore</th>\n",
              "      <th>stroke</th>\n",
              "      <th>compression-ratio</th>\n",
              "      <th>horsepower</th>\n",
              "      <th>peak-rpm</th>\n",
              "      <th>city-mpg</th>\n",
              "      <th>highway-mpg</th>\n",
              "      <th>price</th>\n",
              "    </tr>\n",
              "  </thead>\n",
              "  <tbody>\n",
              "    <tr>\n",
              "      <th>0</th>\n",
              "      <td>3</td>\n",
              "      <td>?</td>\n",
              "      <td>alfa-romero</td>\n",
              "      <td>gas</td>\n",
              "      <td>std</td>\n",
              "      <td>two</td>\n",
              "      <td>convertible</td>\n",
              "      <td>rwd</td>\n",
              "      <td>front</td>\n",
              "      <td>88.6</td>\n",
              "      <td>...</td>\n",
              "      <td>130</td>\n",
              "      <td>mpfi</td>\n",
              "      <td>3.47</td>\n",
              "      <td>2.68</td>\n",
              "      <td>9.0</td>\n",
              "      <td>111</td>\n",
              "      <td>5000</td>\n",
              "      <td>21</td>\n",
              "      <td>27</td>\n",
              "      <td>13495</td>\n",
              "    </tr>\n",
              "    <tr>\n",
              "      <th>1</th>\n",
              "      <td>3</td>\n",
              "      <td>?</td>\n",
              "      <td>alfa-romero</td>\n",
              "      <td>gas</td>\n",
              "      <td>std</td>\n",
              "      <td>two</td>\n",
              "      <td>convertible</td>\n",
              "      <td>rwd</td>\n",
              "      <td>front</td>\n",
              "      <td>88.6</td>\n",
              "      <td>...</td>\n",
              "      <td>130</td>\n",
              "      <td>mpfi</td>\n",
              "      <td>3.47</td>\n",
              "      <td>2.68</td>\n",
              "      <td>9.0</td>\n",
              "      <td>111</td>\n",
              "      <td>5000</td>\n",
              "      <td>21</td>\n",
              "      <td>27</td>\n",
              "      <td>16500</td>\n",
              "    </tr>\n",
              "    <tr>\n",
              "      <th>2</th>\n",
              "      <td>1</td>\n",
              "      <td>?</td>\n",
              "      <td>alfa-romero</td>\n",
              "      <td>gas</td>\n",
              "      <td>std</td>\n",
              "      <td>two</td>\n",
              "      <td>hatchback</td>\n",
              "      <td>rwd</td>\n",
              "      <td>front</td>\n",
              "      <td>94.5</td>\n",
              "      <td>...</td>\n",
              "      <td>152</td>\n",
              "      <td>mpfi</td>\n",
              "      <td>2.68</td>\n",
              "      <td>3.47</td>\n",
              "      <td>9.0</td>\n",
              "      <td>154</td>\n",
              "      <td>5000</td>\n",
              "      <td>19</td>\n",
              "      <td>26</td>\n",
              "      <td>16500</td>\n",
              "    </tr>\n",
              "    <tr>\n",
              "      <th>3</th>\n",
              "      <td>2</td>\n",
              "      <td>164</td>\n",
              "      <td>audi</td>\n",
              "      <td>gas</td>\n",
              "      <td>std</td>\n",
              "      <td>four</td>\n",
              "      <td>sedan</td>\n",
              "      <td>fwd</td>\n",
              "      <td>front</td>\n",
              "      <td>99.8</td>\n",
              "      <td>...</td>\n",
              "      <td>109</td>\n",
              "      <td>mpfi</td>\n",
              "      <td>3.19</td>\n",
              "      <td>3.4</td>\n",
              "      <td>10.0</td>\n",
              "      <td>102</td>\n",
              "      <td>5500</td>\n",
              "      <td>24</td>\n",
              "      <td>30</td>\n",
              "      <td>13950</td>\n",
              "    </tr>\n",
              "    <tr>\n",
              "      <th>4</th>\n",
              "      <td>2</td>\n",
              "      <td>164</td>\n",
              "      <td>audi</td>\n",
              "      <td>gas</td>\n",
              "      <td>std</td>\n",
              "      <td>four</td>\n",
              "      <td>sedan</td>\n",
              "      <td>4wd</td>\n",
              "      <td>front</td>\n",
              "      <td>99.4</td>\n",
              "      <td>...</td>\n",
              "      <td>136</td>\n",
              "      <td>mpfi</td>\n",
              "      <td>3.19</td>\n",
              "      <td>3.4</td>\n",
              "      <td>8.0</td>\n",
              "      <td>115</td>\n",
              "      <td>5500</td>\n",
              "      <td>18</td>\n",
              "      <td>22</td>\n",
              "      <td>17450</td>\n",
              "    </tr>\n",
              "    <tr>\n",
              "      <th>...</th>\n",
              "      <td>...</td>\n",
              "      <td>...</td>\n",
              "      <td>...</td>\n",
              "      <td>...</td>\n",
              "      <td>...</td>\n",
              "      <td>...</td>\n",
              "      <td>...</td>\n",
              "      <td>...</td>\n",
              "      <td>...</td>\n",
              "      <td>...</td>\n",
              "      <td>...</td>\n",
              "      <td>...</td>\n",
              "      <td>...</td>\n",
              "      <td>...</td>\n",
              "      <td>...</td>\n",
              "      <td>...</td>\n",
              "      <td>...</td>\n",
              "      <td>...</td>\n",
              "      <td>...</td>\n",
              "      <td>...</td>\n",
              "      <td>...</td>\n",
              "    </tr>\n",
              "    <tr>\n",
              "      <th>200</th>\n",
              "      <td>-1</td>\n",
              "      <td>95</td>\n",
              "      <td>volvo</td>\n",
              "      <td>gas</td>\n",
              "      <td>std</td>\n",
              "      <td>four</td>\n",
              "      <td>sedan</td>\n",
              "      <td>rwd</td>\n",
              "      <td>front</td>\n",
              "      <td>109.1</td>\n",
              "      <td>...</td>\n",
              "      <td>141</td>\n",
              "      <td>mpfi</td>\n",
              "      <td>3.78</td>\n",
              "      <td>3.15</td>\n",
              "      <td>9.5</td>\n",
              "      <td>114</td>\n",
              "      <td>5400</td>\n",
              "      <td>23</td>\n",
              "      <td>28</td>\n",
              "      <td>16845</td>\n",
              "    </tr>\n",
              "    <tr>\n",
              "      <th>201</th>\n",
              "      <td>-1</td>\n",
              "      <td>95</td>\n",
              "      <td>volvo</td>\n",
              "      <td>gas</td>\n",
              "      <td>turbo</td>\n",
              "      <td>four</td>\n",
              "      <td>sedan</td>\n",
              "      <td>rwd</td>\n",
              "      <td>front</td>\n",
              "      <td>109.1</td>\n",
              "      <td>...</td>\n",
              "      <td>141</td>\n",
              "      <td>mpfi</td>\n",
              "      <td>3.78</td>\n",
              "      <td>3.15</td>\n",
              "      <td>8.7</td>\n",
              "      <td>160</td>\n",
              "      <td>5300</td>\n",
              "      <td>19</td>\n",
              "      <td>25</td>\n",
              "      <td>19045</td>\n",
              "    </tr>\n",
              "    <tr>\n",
              "      <th>202</th>\n",
              "      <td>-1</td>\n",
              "      <td>95</td>\n",
              "      <td>volvo</td>\n",
              "      <td>gas</td>\n",
              "      <td>std</td>\n",
              "      <td>four</td>\n",
              "      <td>sedan</td>\n",
              "      <td>rwd</td>\n",
              "      <td>front</td>\n",
              "      <td>109.1</td>\n",
              "      <td>...</td>\n",
              "      <td>173</td>\n",
              "      <td>mpfi</td>\n",
              "      <td>3.58</td>\n",
              "      <td>2.87</td>\n",
              "      <td>8.8</td>\n",
              "      <td>134</td>\n",
              "      <td>5500</td>\n",
              "      <td>18</td>\n",
              "      <td>23</td>\n",
              "      <td>21485</td>\n",
              "    </tr>\n",
              "    <tr>\n",
              "      <th>203</th>\n",
              "      <td>-1</td>\n",
              "      <td>95</td>\n",
              "      <td>volvo</td>\n",
              "      <td>diesel</td>\n",
              "      <td>turbo</td>\n",
              "      <td>four</td>\n",
              "      <td>sedan</td>\n",
              "      <td>rwd</td>\n",
              "      <td>front</td>\n",
              "      <td>109.1</td>\n",
              "      <td>...</td>\n",
              "      <td>145</td>\n",
              "      <td>idi</td>\n",
              "      <td>3.01</td>\n",
              "      <td>3.4</td>\n",
              "      <td>23.0</td>\n",
              "      <td>106</td>\n",
              "      <td>4800</td>\n",
              "      <td>26</td>\n",
              "      <td>27</td>\n",
              "      <td>22470</td>\n",
              "    </tr>\n",
              "    <tr>\n",
              "      <th>204</th>\n",
              "      <td>-1</td>\n",
              "      <td>95</td>\n",
              "      <td>volvo</td>\n",
              "      <td>gas</td>\n",
              "      <td>turbo</td>\n",
              "      <td>four</td>\n",
              "      <td>sedan</td>\n",
              "      <td>rwd</td>\n",
              "      <td>front</td>\n",
              "      <td>109.1</td>\n",
              "      <td>...</td>\n",
              "      <td>141</td>\n",
              "      <td>mpfi</td>\n",
              "      <td>3.78</td>\n",
              "      <td>3.15</td>\n",
              "      <td>9.5</td>\n",
              "      <td>114</td>\n",
              "      <td>5400</td>\n",
              "      <td>19</td>\n",
              "      <td>25</td>\n",
              "      <td>22625</td>\n",
              "    </tr>\n",
              "  </tbody>\n",
              "</table>\n",
              "<p>205 rows × 26 columns</p>\n",
              "</div>\n",
              "      <button class=\"colab-df-convert\" onclick=\"convertToInteractive('df-26633f26-cba9-4b97-b760-baab06c1b6d9')\"\n",
              "              title=\"Convert this dataframe to an interactive table.\"\n",
              "              style=\"display:none;\">\n",
              "        \n",
              "  <svg xmlns=\"http://www.w3.org/2000/svg\" height=\"24px\"viewBox=\"0 0 24 24\"\n",
              "       width=\"24px\">\n",
              "    <path d=\"M0 0h24v24H0V0z\" fill=\"none\"/>\n",
              "    <path d=\"M18.56 5.44l.94 2.06.94-2.06 2.06-.94-2.06-.94-.94-2.06-.94 2.06-2.06.94zm-11 1L8.5 8.5l.94-2.06 2.06-.94-2.06-.94L8.5 2.5l-.94 2.06-2.06.94zm10 10l.94 2.06.94-2.06 2.06-.94-2.06-.94-.94-2.06-.94 2.06-2.06.94z\"/><path d=\"M17.41 7.96l-1.37-1.37c-.4-.4-.92-.59-1.43-.59-.52 0-1.04.2-1.43.59L10.3 9.45l-7.72 7.72c-.78.78-.78 2.05 0 2.83L4 21.41c.39.39.9.59 1.41.59.51 0 1.02-.2 1.41-.59l7.78-7.78 2.81-2.81c.8-.78.8-2.07 0-2.86zM5.41 20L4 18.59l7.72-7.72 1.47 1.35L5.41 20z\"/>\n",
              "  </svg>\n",
              "      </button>\n",
              "      \n",
              "  <style>\n",
              "    .colab-df-container {\n",
              "      display:flex;\n",
              "      flex-wrap:wrap;\n",
              "      gap: 12px;\n",
              "    }\n",
              "\n",
              "    .colab-df-convert {\n",
              "      background-color: #E8F0FE;\n",
              "      border: none;\n",
              "      border-radius: 50%;\n",
              "      cursor: pointer;\n",
              "      display: none;\n",
              "      fill: #1967D2;\n",
              "      height: 32px;\n",
              "      padding: 0 0 0 0;\n",
              "      width: 32px;\n",
              "    }\n",
              "\n",
              "    .colab-df-convert:hover {\n",
              "      background-color: #E2EBFA;\n",
              "      box-shadow: 0px 1px 2px rgba(60, 64, 67, 0.3), 0px 1px 3px 1px rgba(60, 64, 67, 0.15);\n",
              "      fill: #174EA6;\n",
              "    }\n",
              "\n",
              "    [theme=dark] .colab-df-convert {\n",
              "      background-color: #3B4455;\n",
              "      fill: #D2E3FC;\n",
              "    }\n",
              "\n",
              "    [theme=dark] .colab-df-convert:hover {\n",
              "      background-color: #434B5C;\n",
              "      box-shadow: 0px 1px 3px 1px rgba(0, 0, 0, 0.15);\n",
              "      filter: drop-shadow(0px 1px 2px rgba(0, 0, 0, 0.3));\n",
              "      fill: #FFFFFF;\n",
              "    }\n",
              "  </style>\n",
              "\n",
              "      <script>\n",
              "        const buttonEl =\n",
              "          document.querySelector('#df-26633f26-cba9-4b97-b760-baab06c1b6d9 button.colab-df-convert');\n",
              "        buttonEl.style.display =\n",
              "          google.colab.kernel.accessAllowed ? 'block' : 'none';\n",
              "\n",
              "        async function convertToInteractive(key) {\n",
              "          const element = document.querySelector('#df-26633f26-cba9-4b97-b760-baab06c1b6d9');\n",
              "          const dataTable =\n",
              "            await google.colab.kernel.invokeFunction('convertToInteractive',\n",
              "                                                     [key], {});\n",
              "          if (!dataTable) return;\n",
              "\n",
              "          const docLinkHtml = 'Like what you see? Visit the ' +\n",
              "            '<a target=\"_blank\" href=https://colab.research.google.com/notebooks/data_table.ipynb>data table notebook</a>'\n",
              "            + ' to learn more about interactive tables.';\n",
              "          element.innerHTML = '';\n",
              "          dataTable['output_type'] = 'display_data';\n",
              "          await google.colab.output.renderOutput(dataTable, element);\n",
              "          const docLink = document.createElement('div');\n",
              "          docLink.innerHTML = docLinkHtml;\n",
              "          element.appendChild(docLink);\n",
              "        }\n",
              "      </script>\n",
              "    </div>\n",
              "  </div>\n",
              "  "
            ]
          },
          "metadata": {},
          "execution_count": 70
        }
      ]
    },
    {
      "cell_type": "markdown",
      "source": [
        "📋 To get a list of all the column names in the automobile dataset, you can use the command **auto_df.columns**. This would provide you with the names of all the columns in the dataset and enable you to carry out various data manipulation and analysis operations."
      ],
      "metadata": {
        "id": "yBGzgiaJ8E9K"
      }
    },
    {
      "cell_type": "code",
      "source": [
        "auto_df.columns"
      ],
      "metadata": {
        "colab": {
          "base_uri": "https://localhost:8080/"
        },
        "id": "7EWd0h1Exyly",
        "outputId": "bfd3ee1f-8da1-4c45-8b70-68e4f51661ef"
      },
      "execution_count": null,
      "outputs": [
        {
          "output_type": "execute_result",
          "data": {
            "text/plain": [
              "Index(['symboling', 'normalized-losses', 'make', 'fuel-type', 'aspiration',\n",
              "       'num-of-doors', 'body-style', 'drive-wheels', 'engine-location',\n",
              "       'wheel-base', 'length', 'width', 'height', 'curb-weight', 'engine-type',\n",
              "       'num-of-cylinders', 'engine-size', 'fuel-system', 'bore', 'stroke',\n",
              "       'compression-ratio', 'horsepower', 'peak-rpm', 'city-mpg',\n",
              "       'highway-mpg', 'price'],\n",
              "      dtype='object')"
            ]
          },
          "metadata": {},
          "execution_count": 71
        }
      ]
    },
    {
      "cell_type": "markdown",
      "source": [
        "Here is information on what these columns represent."
      ],
      "metadata": {
        "id": "xiRfujmqw0-j"
      }
    },
    {
      "cell_type": "markdown",
      "source": [
        "1. **symboling:** -3, -2, -1, 0, 1, 2, 3\n",
        "\n",
        "2. **normalized-losses:** continuous from 65 to 256\n",
        "\n",
        "3. **make:** alfa-romero, audi, bmw, chevrolet, dodge, honda, isuzu, jaguar, mazda, mercedes-benz, mercury, mitsubishi, nissan, peugot, plymouth, porsche, renault, saab, subaru, toyota, volkswagen, volvo\n",
        "\n",
        "4. **fuel-type:** diesel, gas\n",
        "\n",
        "5. **aspiration:** std, turbo\n",
        "\n",
        "6. **num-of-doors:** four, two\n",
        "\n",
        "7. **body-style:** hardtop, wagon, sedan, hatchback, convertible\n",
        "\n",
        "8. **drive-wheels:** 4wd, fwd, rwd\n",
        "\n",
        "9. **engine-location:** front, rear\n",
        "\n",
        "10. **wheel-base:** continuous from 86.6 to 120.9\n",
        "\n",
        "11. **length:** continuous from 141.1 to 208.1\n",
        "\n",
        "12. **width:** continuous from 60.3 to 72.3\n",
        "\n",
        "13. **height:** continuous from 47.8 to 59.8\n",
        "\n",
        "14. **curb-weight:** continuous from 1488 to 4066\n",
        "\n",
        "15. **engine-type:** dohc, dohcv, l, ohc, ohcf, ohcv, rotor\n",
        "\n",
        "16. **num-of-cylinders:** eight, five, four, six, three, twelve, two\n",
        "\n",
        "17. **engine-size:** continuous from 61 to 326\n",
        "\n",
        "18. **fuel-system:** 1bbl, 2bbl, 4bbl, idi, mfi, mpfi, spdi, spfi\n",
        "\n",
        "19. **bore:** continuous from 2.54 to 3.94\n",
        "\n",
        "20. **stroke:** continuous from 2.07 to 4.17\n",
        "\n",
        "21. **compression-ratio:** continuous from 7 to 23\n",
        "\n",
        "22. **orsepower:** continuous from 48 to 288\n",
        "\n",
        "23. **peak-rpm:** continuous from 4150 to 6600\n",
        "\n",
        "24. **city-mpg:** continuous from 13 to 49\n",
        "\n",
        "25. **highway-mpg:** continuous from 16 to 54\n",
        "\n",
        "26. **price:** continuous from 5118 to 45400"
      ],
      "metadata": {
        "id": "gIXUSyH0PXTy"
      }
    },
    {
      "cell_type": "markdown",
      "source": [
        "##**Dataset Cleaning** 🧹"
      ],
      "metadata": {
        "id": "icGdyoc5O3J2"
      }
    },
    {
      "cell_type": "markdown",
      "source": [
        "**Handling Missing Values**\n",
        "\n",
        "---\n",
        "\n"
      ],
      "metadata": {
        "id": "s6oiLpNUyQ5D"
      }
    },
    {
      "cell_type": "markdown",
      "source": [
        "When data is missing from a dataset, it may be represented by other values such as '**?**' question marks, '**-**' dashes or blank spaces.\n",
        "\n",
        "These values can create problems during data analysis as they cannot be recognized as missing data by most software packages and can interfere with calculations and statistics.\n",
        "\n",
        "By converting these values to NaN (Not a Number), we can standardize the representation of missing data and make it easier to handle and process during data analysis. NaN values are recognized by most software packages as missing data and can be easily removed, imputed or handled in other ways during data analysis.\n",
        "NaN stands for \"Not a Number\". It is a special floating-point value in Python that represents an undefined or unrepresentable value. In the context of datasets, NaN values typically represent missing or undefined values."
      ],
      "metadata": {
        "id": "lfvV-1StyBYg"
      }
    },
    {
      "cell_type": "code",
      "source": [
        "#  Handle missing values\n",
        "import numpy as np\n",
        "auto_df.replace('?', np.nan, inplace=True)  # replace '?' with NaN\n"
      ],
      "metadata": {
        "id": "Mc2sfvNa57uH"
      },
      "execution_count": null,
      "outputs": []
    },
    {
      "cell_type": "markdown",
      "source": [
        "\n",
        "1. The **auto_df.replace('?', np.nan, inplace=True**) command is a data cleaning operation that replaces all occurrences of the string \"?\" in the auto_df dataframe object with the special value NaN (not a number). This operation is useful because many datasets, including the automobile dataset from the UCI Machine Learning Repository, may have missing values represented by a certain string or character, such as **\"?\"**, **\"NA\"**, or **\"NaN\"**.\n"
      ],
      "metadata": {
        "id": "LTY0f4NX5dxo"
      }
    },
    {
      "cell_type": "code",
      "source": [
        "# drop rows with missing values in the price column\n",
        "auto_df.dropna(subset=['price'], axis=0, inplace=True)\n"
      ],
      "metadata": {
        "id": "ZAbCxJ2c6Zl_"
      },
      "execution_count": null,
      "outputs": []
    },
    {
      "cell_type": "markdown",
      "source": [
        "2. The **auto_df.dropna(subset=['price'], axis=0, inplace=True)** command is a data cleaning operation that removes rows with missing values in the \"price\" column from the auto_df dataframe object. This operation is useful because missing values can cause errors in machine learning algorithms, and removing rows with missing values can improve the quality of the data used for analysis."
      ],
      "metadata": {
        "id": "6GuXwUSvCjMJ"
      }
    },
    {
      "cell_type": "code",
      "source": [
        "# replace missing values in normalized-losses column with mean value\n",
        "auto_df['normalized-losses'].fillna(auto_df['normalized-losses'].astype(float).mean(), inplace=True)"
      ],
      "metadata": {
        "id": "yUZ2zgU967co"
      },
      "execution_count": null,
      "outputs": []
    },
    {
      "cell_type": "markdown",
      "source": [
        "3. The code will fill the missing values in the **\"normalized-losses\"** column of the **auto_df** dataframe object with the mean value of the non-missing values in that column. This operation is useful because missing values can cause errors in machine learning algorithms, and filling in missing values with a reasonable estimate can improve the quality of the data used for analysis."
      ],
      "metadata": {
        "id": "HFkx3T-GC5Hf"
      }
    },
    {
      "cell_type": "markdown",
      "source": [
        "###**Strategies to Impute NaN/NA values.**"
      ],
      "metadata": {
        "id": "k0RW4mUmyBI8"
      }
    },
    {
      "cell_type": "markdown",
      "source": [
        "1. 🤔 Understand the reason for the NaN values: Before replacing or imputing NaN values, it is important to understand why they are present in the data.\n",
        "\n",
        "1. 🤓 Choose an appropriate replacement strategy: There are several strategies to replace or impute NaN values, such as mean imputation, mode imputation, and regression imputation.\n",
        "\n",
        "1. 🧐 Evaluate the impact of replacement: It is important to evaluate the impact of replacement or imputation on the overall data quality.\n",
        "\n",
        "1. ⚠️ Consider the potential consequences: Replacing or imputing NaN values can have consequences on downstream analyses, so it is important to consider the potential consequences of the replacement strategy on subsequent analyses and results.\n",
        "\n",
        "1. 📝 Document the process: It is important to document the process of replacing or imputing NaN values, including the strategy used and the rationale behind it.\n",
        "\n",
        "\n",
        "\n",
        "\n"
      ],
      "metadata": {
        "id": "4yldoL30ymxd"
      }
    },
    {
      "cell_type": "code",
      "source": [
        "auto_df.dtypes"
      ],
      "metadata": {
        "id": "nEh8ktsNzd27",
        "colab": {
          "base_uri": "https://localhost:8080/"
        },
        "outputId": "08d803eb-a897-46db-9548-2136e3ff2652"
      },
      "execution_count": null,
      "outputs": [
        {
          "output_type": "execute_result",
          "data": {
            "text/plain": [
              "symboling              int64\n",
              "normalized-losses    float64\n",
              "make                  object\n",
              "fuel-type             object\n",
              "aspiration            object\n",
              "num-of-doors          object\n",
              "body-style            object\n",
              "drive-wheels          object\n",
              "engine-location       object\n",
              "wheel-base           float64\n",
              "length               float64\n",
              "width                float64\n",
              "height               float64\n",
              "curb-weight            int64\n",
              "engine-type           object\n",
              "num-of-cylinders      object\n",
              "engine-size            int64\n",
              "fuel-system           object\n",
              "bore                 float64\n",
              "stroke               float64\n",
              "compression-ratio    float64\n",
              "horsepower           float64\n",
              "peak-rpm             float64\n",
              "city-mpg               int64\n",
              "highway-mpg            int64\n",
              "price                float64\n",
              "dtype: object"
            ]
          },
          "metadata": {},
          "execution_count": 52
        }
      ]
    },
    {
      "cell_type": "code",
      "source": [
        "# Convert data types from object to float\n",
        "\n",
        "auto_df[['normalized-losses', 'bore', 'stroke', 'horsepower', 'peak-rpm', 'price']] = auto_df[['normalized-losses', 'bore', 'stroke', 'horsepower', 'peak-rpm', 'price']].astype(float)"
      ],
      "metadata": {
        "id": "WkIfZi1i86lK"
      },
      "execution_count": null,
      "outputs": []
    },
    {
      "cell_type": "markdown",
      "source": [
        "4. This code will convert the  selected columns of the **auto_df** dataframe object from their original data type to the float data type. This operation is useful because it ensures that the data is in a consistent format and can be used for machine learning or other data science tasks that require numerical data."
      ],
      "metadata": {
        "id": "Hzz_2Wz-DJJx"
      }
    },
    {
      "cell_type": "code",
      "source": [
        "auto_df.dtypes"
      ],
      "metadata": {
        "colab": {
          "base_uri": "https://localhost:8080/"
        },
        "id": "_3n2N7dV9FWu",
        "outputId": "f3b4a3cb-0c13-4594-dacc-39c39b0054f6"
      },
      "execution_count": null,
      "outputs": [
        {
          "output_type": "execute_result",
          "data": {
            "text/plain": [
              "symboling              int64\n",
              "normalized-losses    float64\n",
              "make                  object\n",
              "fuel-type             object\n",
              "aspiration            object\n",
              "num-of-doors          object\n",
              "body-style            object\n",
              "drive-wheels          object\n",
              "engine-location       object\n",
              "wheel-base           float64\n",
              "length               float64\n",
              "width                float64\n",
              "height               float64\n",
              "curb-weight            int64\n",
              "engine-type           object\n",
              "num-of-cylinders      object\n",
              "engine-size            int64\n",
              "fuel-system           object\n",
              "bore                 float64\n",
              "stroke               float64\n",
              "compression-ratio    float64\n",
              "horsepower           float64\n",
              "peak-rpm             float64\n",
              "city-mpg               int64\n",
              "highway-mpg            int64\n",
              "price                float64\n",
              "dtype: object"
            ]
          },
          "metadata": {},
          "execution_count": 54
        }
      ]
    },
    {
      "cell_type": "markdown",
      "source": [
        "5. The **auto_df.drop_duplicates(inplace=True)** command is a data cleaning operation that removes duplicate rows from the auto_df dataframe object. This operation is useful because duplicate rows can cause errors or bias in machine learning algorithms or other data science tasks."
      ],
      "metadata": {
        "id": "lb6eOmxW_PKJ"
      }
    },
    {
      "cell_type": "markdown",
      "source": [
        "**REMOVING DUPLICATES**\n",
        "\n",
        "---\n",
        "\n",
        "The process of identifying and removing or handling instances where the same observation appears multiple times in a dataset. Duplicates can occur due to errors in data collection, data entry, or data merging, and can lead to biased or incorrect analyses if not properly addressed."
      ],
      "metadata": {
        "id": "w7ONr2a60BFR"
      }
    },
    {
      "cell_type": "code",
      "source": [
        "# Check for duplicates\n",
        "auto_df.drop_duplicates(inplace=True)"
      ],
      "metadata": {
        "id": "JYmhD2j_9l9w"
      },
      "execution_count": null,
      "outputs": []
    },
    {
      "cell_type": "code",
      "source": [
        "auto_df"
      ],
      "metadata": {
        "id": "RSQelfVB98Sa",
        "colab": {
          "base_uri": "https://localhost:8080/",
          "height": 574
        },
        "outputId": "4c171c0d-c593-4f4f-b5e0-658f51624847"
      },
      "execution_count": null,
      "outputs": [
        {
          "output_type": "execute_result",
          "data": {
            "text/plain": [
              "     symboling  normalized-losses         make fuel-type aspiration  \\\n",
              "0            3              122.0  alfa-romero       gas        std   \n",
              "1            3              122.0  alfa-romero       gas        std   \n",
              "2            1              122.0  alfa-romero       gas        std   \n",
              "3            2              164.0         audi       gas        std   \n",
              "4            2              164.0         audi       gas        std   \n",
              "..         ...                ...          ...       ...        ...   \n",
              "200         -1               95.0        volvo       gas        std   \n",
              "201         -1               95.0        volvo       gas      turbo   \n",
              "202         -1               95.0        volvo       gas        std   \n",
              "203         -1               95.0        volvo    diesel      turbo   \n",
              "204         -1               95.0        volvo       gas      turbo   \n",
              "\n",
              "    num-of-doors   body-style drive-wheels engine-location  wheel-base  ...  \\\n",
              "0            two  convertible          rwd           front        88.6  ...   \n",
              "1            two  convertible          rwd           front        88.6  ...   \n",
              "2            two    hatchback          rwd           front        94.5  ...   \n",
              "3           four        sedan          fwd           front        99.8  ...   \n",
              "4           four        sedan          4wd           front        99.4  ...   \n",
              "..           ...          ...          ...             ...         ...  ...   \n",
              "200         four        sedan          rwd           front       109.1  ...   \n",
              "201         four        sedan          rwd           front       109.1  ...   \n",
              "202         four        sedan          rwd           front       109.1  ...   \n",
              "203         four        sedan          rwd           front       109.1  ...   \n",
              "204         four        sedan          rwd           front       109.1  ...   \n",
              "\n",
              "     engine-size  fuel-system  bore  stroke compression-ratio horsepower  \\\n",
              "0            130         mpfi  3.47    2.68               9.0      111.0   \n",
              "1            130         mpfi  3.47    2.68               9.0      111.0   \n",
              "2            152         mpfi  2.68    3.47               9.0      154.0   \n",
              "3            109         mpfi  3.19    3.40              10.0      102.0   \n",
              "4            136         mpfi  3.19    3.40               8.0      115.0   \n",
              "..           ...          ...   ...     ...               ...        ...   \n",
              "200          141         mpfi  3.78    3.15               9.5      114.0   \n",
              "201          141         mpfi  3.78    3.15               8.7      160.0   \n",
              "202          173         mpfi  3.58    2.87               8.8      134.0   \n",
              "203          145          idi  3.01    3.40              23.0      106.0   \n",
              "204          141         mpfi  3.78    3.15               9.5      114.0   \n",
              "\n",
              "     peak-rpm city-mpg  highway-mpg    price  \n",
              "0      5000.0       21           27  13495.0  \n",
              "1      5000.0       21           27  16500.0  \n",
              "2      5000.0       19           26  16500.0  \n",
              "3      5500.0       24           30  13950.0  \n",
              "4      5500.0       18           22  17450.0  \n",
              "..        ...      ...          ...      ...  \n",
              "200    5400.0       23           28  16845.0  \n",
              "201    5300.0       19           25  19045.0  \n",
              "202    5500.0       18           23  21485.0  \n",
              "203    4800.0       26           27  22470.0  \n",
              "204    5400.0       19           25  22625.0  \n",
              "\n",
              "[201 rows x 26 columns]"
            ],
            "text/html": [
              "\n",
              "\n",
              "  <div id=\"df-64e0048f-4ccb-45a3-9507-d635b8522e62\">\n",
              "    <div class=\"colab-df-container\">\n",
              "      <div>\n",
              "<style scoped>\n",
              "    .dataframe tbody tr th:only-of-type {\n",
              "        vertical-align: middle;\n",
              "    }\n",
              "\n",
              "    .dataframe tbody tr th {\n",
              "        vertical-align: top;\n",
              "    }\n",
              "\n",
              "    .dataframe thead th {\n",
              "        text-align: right;\n",
              "    }\n",
              "</style>\n",
              "<table border=\"1\" class=\"dataframe\">\n",
              "  <thead>\n",
              "    <tr style=\"text-align: right;\">\n",
              "      <th></th>\n",
              "      <th>symboling</th>\n",
              "      <th>normalized-losses</th>\n",
              "      <th>make</th>\n",
              "      <th>fuel-type</th>\n",
              "      <th>aspiration</th>\n",
              "      <th>num-of-doors</th>\n",
              "      <th>body-style</th>\n",
              "      <th>drive-wheels</th>\n",
              "      <th>engine-location</th>\n",
              "      <th>wheel-base</th>\n",
              "      <th>...</th>\n",
              "      <th>engine-size</th>\n",
              "      <th>fuel-system</th>\n",
              "      <th>bore</th>\n",
              "      <th>stroke</th>\n",
              "      <th>compression-ratio</th>\n",
              "      <th>horsepower</th>\n",
              "      <th>peak-rpm</th>\n",
              "      <th>city-mpg</th>\n",
              "      <th>highway-mpg</th>\n",
              "      <th>price</th>\n",
              "    </tr>\n",
              "  </thead>\n",
              "  <tbody>\n",
              "    <tr>\n",
              "      <th>0</th>\n",
              "      <td>3</td>\n",
              "      <td>122.0</td>\n",
              "      <td>alfa-romero</td>\n",
              "      <td>gas</td>\n",
              "      <td>std</td>\n",
              "      <td>two</td>\n",
              "      <td>convertible</td>\n",
              "      <td>rwd</td>\n",
              "      <td>front</td>\n",
              "      <td>88.6</td>\n",
              "      <td>...</td>\n",
              "      <td>130</td>\n",
              "      <td>mpfi</td>\n",
              "      <td>3.47</td>\n",
              "      <td>2.68</td>\n",
              "      <td>9.0</td>\n",
              "      <td>111.0</td>\n",
              "      <td>5000.0</td>\n",
              "      <td>21</td>\n",
              "      <td>27</td>\n",
              "      <td>13495.0</td>\n",
              "    </tr>\n",
              "    <tr>\n",
              "      <th>1</th>\n",
              "      <td>3</td>\n",
              "      <td>122.0</td>\n",
              "      <td>alfa-romero</td>\n",
              "      <td>gas</td>\n",
              "      <td>std</td>\n",
              "      <td>two</td>\n",
              "      <td>convertible</td>\n",
              "      <td>rwd</td>\n",
              "      <td>front</td>\n",
              "      <td>88.6</td>\n",
              "      <td>...</td>\n",
              "      <td>130</td>\n",
              "      <td>mpfi</td>\n",
              "      <td>3.47</td>\n",
              "      <td>2.68</td>\n",
              "      <td>9.0</td>\n",
              "      <td>111.0</td>\n",
              "      <td>5000.0</td>\n",
              "      <td>21</td>\n",
              "      <td>27</td>\n",
              "      <td>16500.0</td>\n",
              "    </tr>\n",
              "    <tr>\n",
              "      <th>2</th>\n",
              "      <td>1</td>\n",
              "      <td>122.0</td>\n",
              "      <td>alfa-romero</td>\n",
              "      <td>gas</td>\n",
              "      <td>std</td>\n",
              "      <td>two</td>\n",
              "      <td>hatchback</td>\n",
              "      <td>rwd</td>\n",
              "      <td>front</td>\n",
              "      <td>94.5</td>\n",
              "      <td>...</td>\n",
              "      <td>152</td>\n",
              "      <td>mpfi</td>\n",
              "      <td>2.68</td>\n",
              "      <td>3.47</td>\n",
              "      <td>9.0</td>\n",
              "      <td>154.0</td>\n",
              "      <td>5000.0</td>\n",
              "      <td>19</td>\n",
              "      <td>26</td>\n",
              "      <td>16500.0</td>\n",
              "    </tr>\n",
              "    <tr>\n",
              "      <th>3</th>\n",
              "      <td>2</td>\n",
              "      <td>164.0</td>\n",
              "      <td>audi</td>\n",
              "      <td>gas</td>\n",
              "      <td>std</td>\n",
              "      <td>four</td>\n",
              "      <td>sedan</td>\n",
              "      <td>fwd</td>\n",
              "      <td>front</td>\n",
              "      <td>99.8</td>\n",
              "      <td>...</td>\n",
              "      <td>109</td>\n",
              "      <td>mpfi</td>\n",
              "      <td>3.19</td>\n",
              "      <td>3.40</td>\n",
              "      <td>10.0</td>\n",
              "      <td>102.0</td>\n",
              "      <td>5500.0</td>\n",
              "      <td>24</td>\n",
              "      <td>30</td>\n",
              "      <td>13950.0</td>\n",
              "    </tr>\n",
              "    <tr>\n",
              "      <th>4</th>\n",
              "      <td>2</td>\n",
              "      <td>164.0</td>\n",
              "      <td>audi</td>\n",
              "      <td>gas</td>\n",
              "      <td>std</td>\n",
              "      <td>four</td>\n",
              "      <td>sedan</td>\n",
              "      <td>4wd</td>\n",
              "      <td>front</td>\n",
              "      <td>99.4</td>\n",
              "      <td>...</td>\n",
              "      <td>136</td>\n",
              "      <td>mpfi</td>\n",
              "      <td>3.19</td>\n",
              "      <td>3.40</td>\n",
              "      <td>8.0</td>\n",
              "      <td>115.0</td>\n",
              "      <td>5500.0</td>\n",
              "      <td>18</td>\n",
              "      <td>22</td>\n",
              "      <td>17450.0</td>\n",
              "    </tr>\n",
              "    <tr>\n",
              "      <th>...</th>\n",
              "      <td>...</td>\n",
              "      <td>...</td>\n",
              "      <td>...</td>\n",
              "      <td>...</td>\n",
              "      <td>...</td>\n",
              "      <td>...</td>\n",
              "      <td>...</td>\n",
              "      <td>...</td>\n",
              "      <td>...</td>\n",
              "      <td>...</td>\n",
              "      <td>...</td>\n",
              "      <td>...</td>\n",
              "      <td>...</td>\n",
              "      <td>...</td>\n",
              "      <td>...</td>\n",
              "      <td>...</td>\n",
              "      <td>...</td>\n",
              "      <td>...</td>\n",
              "      <td>...</td>\n",
              "      <td>...</td>\n",
              "      <td>...</td>\n",
              "    </tr>\n",
              "    <tr>\n",
              "      <th>200</th>\n",
              "      <td>-1</td>\n",
              "      <td>95.0</td>\n",
              "      <td>volvo</td>\n",
              "      <td>gas</td>\n",
              "      <td>std</td>\n",
              "      <td>four</td>\n",
              "      <td>sedan</td>\n",
              "      <td>rwd</td>\n",
              "      <td>front</td>\n",
              "      <td>109.1</td>\n",
              "      <td>...</td>\n",
              "      <td>141</td>\n",
              "      <td>mpfi</td>\n",
              "      <td>3.78</td>\n",
              "      <td>3.15</td>\n",
              "      <td>9.5</td>\n",
              "      <td>114.0</td>\n",
              "      <td>5400.0</td>\n",
              "      <td>23</td>\n",
              "      <td>28</td>\n",
              "      <td>16845.0</td>\n",
              "    </tr>\n",
              "    <tr>\n",
              "      <th>201</th>\n",
              "      <td>-1</td>\n",
              "      <td>95.0</td>\n",
              "      <td>volvo</td>\n",
              "      <td>gas</td>\n",
              "      <td>turbo</td>\n",
              "      <td>four</td>\n",
              "      <td>sedan</td>\n",
              "      <td>rwd</td>\n",
              "      <td>front</td>\n",
              "      <td>109.1</td>\n",
              "      <td>...</td>\n",
              "      <td>141</td>\n",
              "      <td>mpfi</td>\n",
              "      <td>3.78</td>\n",
              "      <td>3.15</td>\n",
              "      <td>8.7</td>\n",
              "      <td>160.0</td>\n",
              "      <td>5300.0</td>\n",
              "      <td>19</td>\n",
              "      <td>25</td>\n",
              "      <td>19045.0</td>\n",
              "    </tr>\n",
              "    <tr>\n",
              "      <th>202</th>\n",
              "      <td>-1</td>\n",
              "      <td>95.0</td>\n",
              "      <td>volvo</td>\n",
              "      <td>gas</td>\n",
              "      <td>std</td>\n",
              "      <td>four</td>\n",
              "      <td>sedan</td>\n",
              "      <td>rwd</td>\n",
              "      <td>front</td>\n",
              "      <td>109.1</td>\n",
              "      <td>...</td>\n",
              "      <td>173</td>\n",
              "      <td>mpfi</td>\n",
              "      <td>3.58</td>\n",
              "      <td>2.87</td>\n",
              "      <td>8.8</td>\n",
              "      <td>134.0</td>\n",
              "      <td>5500.0</td>\n",
              "      <td>18</td>\n",
              "      <td>23</td>\n",
              "      <td>21485.0</td>\n",
              "    </tr>\n",
              "    <tr>\n",
              "      <th>203</th>\n",
              "      <td>-1</td>\n",
              "      <td>95.0</td>\n",
              "      <td>volvo</td>\n",
              "      <td>diesel</td>\n",
              "      <td>turbo</td>\n",
              "      <td>four</td>\n",
              "      <td>sedan</td>\n",
              "      <td>rwd</td>\n",
              "      <td>front</td>\n",
              "      <td>109.1</td>\n",
              "      <td>...</td>\n",
              "      <td>145</td>\n",
              "      <td>idi</td>\n",
              "      <td>3.01</td>\n",
              "      <td>3.40</td>\n",
              "      <td>23.0</td>\n",
              "      <td>106.0</td>\n",
              "      <td>4800.0</td>\n",
              "      <td>26</td>\n",
              "      <td>27</td>\n",
              "      <td>22470.0</td>\n",
              "    </tr>\n",
              "    <tr>\n",
              "      <th>204</th>\n",
              "      <td>-1</td>\n",
              "      <td>95.0</td>\n",
              "      <td>volvo</td>\n",
              "      <td>gas</td>\n",
              "      <td>turbo</td>\n",
              "      <td>four</td>\n",
              "      <td>sedan</td>\n",
              "      <td>rwd</td>\n",
              "      <td>front</td>\n",
              "      <td>109.1</td>\n",
              "      <td>...</td>\n",
              "      <td>141</td>\n",
              "      <td>mpfi</td>\n",
              "      <td>3.78</td>\n",
              "      <td>3.15</td>\n",
              "      <td>9.5</td>\n",
              "      <td>114.0</td>\n",
              "      <td>5400.0</td>\n",
              "      <td>19</td>\n",
              "      <td>25</td>\n",
              "      <td>22625.0</td>\n",
              "    </tr>\n",
              "  </tbody>\n",
              "</table>\n",
              "<p>201 rows × 26 columns</p>\n",
              "</div>\n",
              "      <button class=\"colab-df-convert\" onclick=\"convertToInteractive('df-64e0048f-4ccb-45a3-9507-d635b8522e62')\"\n",
              "              title=\"Convert this dataframe to an interactive table.\"\n",
              "              style=\"display:none;\">\n",
              "\n",
              "  <svg xmlns=\"http://www.w3.org/2000/svg\" height=\"24px\"viewBox=\"0 0 24 24\"\n",
              "       width=\"24px\">\n",
              "    <path d=\"M0 0h24v24H0V0z\" fill=\"none\"/>\n",
              "    <path d=\"M18.56 5.44l.94 2.06.94-2.06 2.06-.94-2.06-.94-.94-2.06-.94 2.06-2.06.94zm-11 1L8.5 8.5l.94-2.06 2.06-.94-2.06-.94L8.5 2.5l-.94 2.06-2.06.94zm10 10l.94 2.06.94-2.06 2.06-.94-2.06-.94-.94-2.06-.94 2.06-2.06.94z\"/><path d=\"M17.41 7.96l-1.37-1.37c-.4-.4-.92-.59-1.43-.59-.52 0-1.04.2-1.43.59L10.3 9.45l-7.72 7.72c-.78.78-.78 2.05 0 2.83L4 21.41c.39.39.9.59 1.41.59.51 0 1.02-.2 1.41-.59l7.78-7.78 2.81-2.81c.8-.78.8-2.07 0-2.86zM5.41 20L4 18.59l7.72-7.72 1.47 1.35L5.41 20z\"/>\n",
              "  </svg>\n",
              "      </button>\n",
              "\n",
              "\n",
              "\n",
              "    <div id=\"df-f5d9c2a7-e51d-46f9-ba84-9c5b5219d767\">\n",
              "      <button class=\"colab-df-quickchart\" onclick=\"quickchart('df-f5d9c2a7-e51d-46f9-ba84-9c5b5219d767')\"\n",
              "              title=\"Suggest charts.\"\n",
              "              style=\"display:none;\">\n",
              "\n",
              "<svg xmlns=\"http://www.w3.org/2000/svg\" height=\"24px\"viewBox=\"0 0 24 24\"\n",
              "     width=\"24px\">\n",
              "    <g>\n",
              "        <path d=\"M19 3H5c-1.1 0-2 .9-2 2v14c0 1.1.9 2 2 2h14c1.1 0 2-.9 2-2V5c0-1.1-.9-2-2-2zM9 17H7v-7h2v7zm4 0h-2V7h2v10zm4 0h-2v-4h2v4z\"/>\n",
              "    </g>\n",
              "</svg>\n",
              "      </button>\n",
              "    </div>\n",
              "\n",
              "<style>\n",
              "  .colab-df-quickchart {\n",
              "    background-color: #E8F0FE;\n",
              "    border: none;\n",
              "    border-radius: 50%;\n",
              "    cursor: pointer;\n",
              "    display: none;\n",
              "    fill: #1967D2;\n",
              "    height: 32px;\n",
              "    padding: 0 0 0 0;\n",
              "    width: 32px;\n",
              "  }\n",
              "\n",
              "  .colab-df-quickchart:hover {\n",
              "    background-color: #E2EBFA;\n",
              "    box-shadow: 0px 1px 2px rgba(60, 64, 67, 0.3), 0px 1px 3px 1px rgba(60, 64, 67, 0.15);\n",
              "    fill: #174EA6;\n",
              "  }\n",
              "\n",
              "  [theme=dark] .colab-df-quickchart {\n",
              "    background-color: #3B4455;\n",
              "    fill: #D2E3FC;\n",
              "  }\n",
              "\n",
              "  [theme=dark] .colab-df-quickchart:hover {\n",
              "    background-color: #434B5C;\n",
              "    box-shadow: 0px 1px 3px 1px rgba(0, 0, 0, 0.15);\n",
              "    filter: drop-shadow(0px 1px 2px rgba(0, 0, 0, 0.3));\n",
              "    fill: #FFFFFF;\n",
              "  }\n",
              "</style>\n",
              "\n",
              "    <script>\n",
              "      async function quickchart(key) {\n",
              "        const containerElement = document.querySelector('#' + key);\n",
              "        const charts = await google.colab.kernel.invokeFunction(\n",
              "            'suggestCharts', [key], {});\n",
              "      }\n",
              "    </script>\n",
              "\n",
              "      <script>\n",
              "\n",
              "function displayQuickchartButton(domScope) {\n",
              "  let quickchartButtonEl =\n",
              "    domScope.querySelector('#df-f5d9c2a7-e51d-46f9-ba84-9c5b5219d767 button.colab-df-quickchart');\n",
              "  quickchartButtonEl.style.display =\n",
              "    google.colab.kernel.accessAllowed ? 'block' : 'none';\n",
              "}\n",
              "\n",
              "        displayQuickchartButton(document);\n",
              "      </script>\n",
              "      <style>\n",
              "    .colab-df-container {\n",
              "      display:flex;\n",
              "      flex-wrap:wrap;\n",
              "      gap: 12px;\n",
              "    }\n",
              "\n",
              "    .colab-df-convert {\n",
              "      background-color: #E8F0FE;\n",
              "      border: none;\n",
              "      border-radius: 50%;\n",
              "      cursor: pointer;\n",
              "      display: none;\n",
              "      fill: #1967D2;\n",
              "      height: 32px;\n",
              "      padding: 0 0 0 0;\n",
              "      width: 32px;\n",
              "    }\n",
              "\n",
              "    .colab-df-convert:hover {\n",
              "      background-color: #E2EBFA;\n",
              "      box-shadow: 0px 1px 2px rgba(60, 64, 67, 0.3), 0px 1px 3px 1px rgba(60, 64, 67, 0.15);\n",
              "      fill: #174EA6;\n",
              "    }\n",
              "\n",
              "    [theme=dark] .colab-df-convert {\n",
              "      background-color: #3B4455;\n",
              "      fill: #D2E3FC;\n",
              "    }\n",
              "\n",
              "    [theme=dark] .colab-df-convert:hover {\n",
              "      background-color: #434B5C;\n",
              "      box-shadow: 0px 1px 3px 1px rgba(0, 0, 0, 0.15);\n",
              "      filter: drop-shadow(0px 1px 2px rgba(0, 0, 0, 0.3));\n",
              "      fill: #FFFFFF;\n",
              "    }\n",
              "  </style>\n",
              "\n",
              "      <script>\n",
              "        const buttonEl =\n",
              "          document.querySelector('#df-64e0048f-4ccb-45a3-9507-d635b8522e62 button.colab-df-convert');\n",
              "        buttonEl.style.display =\n",
              "          google.colab.kernel.accessAllowed ? 'block' : 'none';\n",
              "\n",
              "        async function convertToInteractive(key) {\n",
              "          const element = document.querySelector('#df-64e0048f-4ccb-45a3-9507-d635b8522e62');\n",
              "          const dataTable =\n",
              "            await google.colab.kernel.invokeFunction('convertToInteractive',\n",
              "                                                     [key], {});\n",
              "          if (!dataTable) return;\n",
              "\n",
              "          const docLinkHtml = 'Like what you see? Visit the ' +\n",
              "            '<a target=\"_blank\" href=https://colab.research.google.com/notebooks/data_table.ipynb>data table notebook</a>'\n",
              "            + ' to learn more about interactive tables.';\n",
              "          element.innerHTML = '';\n",
              "          dataTable['output_type'] = 'display_data';\n",
              "          await google.colab.output.renderOutput(dataTable, element);\n",
              "          const docLink = document.createElement('div');\n",
              "          docLink.innerHTML = docLinkHtml;\n",
              "          element.appendChild(docLink);\n",
              "        }\n",
              "      </script>\n",
              "    </div>\n",
              "  </div>\n"
            ]
          },
          "metadata": {},
          "execution_count": 56
        }
      ]
    },
    {
      "cell_type": "markdown",
      "source": [
        "**OUTLIERS:**\n",
        "\n",
        "---\n",
        "\n",
        "Outliers are like those weirdos who always stand out in a crowd. 🤪\n",
        "\n",
        " They are data points that are significantly different from other points in the dataset, and they can really mess up your analysis if you don't handle them properly. 🤯\n",
        "\n",
        "Just like how a person can be an outlier in a group for being too tall or too short, data points can be outliers for having values that are too high or too low compared to the rest of the data. 📈📉"
      ],
      "metadata": {
        "id": "86H1zr_jzOsA"
      }
    },
    {
      "cell_type": "markdown",
      "source": [
        "**Let's deal with these outliers using IQR Method**"
      ],
      "metadata": {
        "id": "ovToJ8cs0Lb9"
      }
    },
    {
      "cell_type": "code",
      "source": [
        "import pandas as pd\n",
        "import seaborn as sns\n",
        "import matplotlib.pyplot as plt\n",
        "\n",
        "# Create a box plot of the price feature\n",
        "sns.boxplot(x=\"price\", data=auto_df)\n",
        "\n",
        "# Display the plot\n",
        "plt.show()"
      ],
      "metadata": {
        "id": "potYFR5bzIH7",
        "colab": {
          "base_uri": "https://localhost:8080/",
          "height": 449
        },
        "outputId": "75bba254-737b-49a0-c24c-68f95d22cfbd"
      },
      "execution_count": null,
      "outputs": [
        {
          "output_type": "display_data",
          "data": {
            "text/plain": [
              "<Figure size 640x480 with 1 Axes>"
            ],
            "image/png": "[encoded data removed]"
          },
          "metadata": {}
        }
      ]
    },
    {
      "cell_type": "markdown",
      "source": [
        "The outliers are points you see on either sides of the whiskers."
      ],
      "metadata": {
        "id": "WCohWVPD0Neg"
      }
    },
    {
      "cell_type": "markdown",
      "source": [
        "![image.png](data:image/png;base64,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)"
      ],
      "metadata": {
        "id": "TGl052XtbGtX"
      }
    },
    {
      "cell_type": "code",
      "source": [
        "# Dealing with outliers\n",
        "auto_df = auto_df[(auto_df['price'] >= auto_df['price'].quantile(0.05)) &\n",
        "        (auto_df['price'] <= auto_df['price'].quantile(0.95))]"
      ],
      "metadata": {
        "id": "s29jGDC3jaQ_"
      },
      "execution_count": null,
      "outputs": []
    },
    {
      "cell_type": "markdown",
      "source": [
        "🤖 This code deals with outliers in the price column of the auto_df dataset.\n",
        "\n",
        "The auto_df dataframe is filtered to remove observations whose price is below the 5th percentile or above the 95th percentile of all price values in the dataset. This means that values that are considered as extreme or unusual are removed from the dataset.\n"
      ],
      "metadata": {
        "id": "CJdJvbGizybf"
      }
    },
    {
      "cell_type": "markdown",
      "source": [
        "###**Strategies to Deal With Outliers**"
      ],
      "metadata": {
        "id": "DjXMj7H40c7v"
      }
    },
    {
      "cell_type": "markdown",
      "source": [
        "1. 🤔 Understand the data and the problem: Before you start dealing with outliers, it is important to have a good understanding of the data and the problem you are trying to solve. This will help you determine if outliers are actually problematic and if so, what is the best approach to deal with them.\n",
        "\n",
        "1. 🔍 Identify the outliers: There are several techniques to identify outliers, such as 📊 box plots, 📈 scatter plots, and 🧮 statistical tests. Once you have identified the outliers, you can decide on the best approach to deal with them.\n",
        "\n",
        "1. 🔬 Investigate the outliers: It is important to investigate the outliers to determine if they are valid or if they are due to data entry errors or measurement errors. If the outliers are valid, they may contain valuable information and should be treated differently from invalid outliers.\n",
        "\n",
        "1. 🤝 Decide on the approach: There are several approaches to deal with outliers, such as 🗑️ removing them, 🔢 transforming the data, or using 📈 robust statistical methods. The approach you choose will depend on the specific problem and the nature of the outliers.\n",
        "\n",
        "1. 📝 Document the process: It is important to document the process of dealing with outliers, including the approach used and the rationale behind it. This will help others understand the decisions you made and the impact of those decisions on the analysis.\n",
        "\n",
        "\n",
        "\n",
        "**You will learn more about the mathematic aspects of these things soon in your math modules.**\n",
        "\n",
        "\n",
        "\n",
        "\n"
      ],
      "metadata": {
        "id": "pWRwZYs10itD"
      }
    },
    {
      "cell_type": "markdown",
      "source": [
        "Let's look at the data types of features in hand."
      ],
      "metadata": {
        "id": "yCO-rIIF1A5n"
      }
    },
    {
      "cell_type": "code",
      "source": [
        "auto_df.info()"
      ],
      "metadata": {
        "id": "sSSnTVjb03xq"
      },
      "execution_count": null,
      "outputs": []
    },
    {
      "cell_type": "markdown",
      "source": [
        "## **Revisiting Basic Visualizations:**"
      ],
      "metadata": {
        "id": "eiFbtGsrj8Xy"
      }
    },
    {
      "cell_type": "markdown",
      "source": [
        "The **plt.hist()** function generates a histogram by taking in an array of values and dividing them into a specified number of bins (in this case, 20 bins) based on the range of the data. The resulting histogram shows the distribution of the data, with the x-axis representing the range of prices and the y-axis representing the frequency of prices falling into each bin."
      ],
      "metadata": {
        "id": "cPW5HCCGA0bR"
      }
    },
    {
      "cell_type": "code",
      "source": [
        "\n",
        "# Histogram of prices\n",
        "plt.hist(auto_df['price'], bins=20)\n",
        "plt.xlabel('Price')\n",
        "plt.ylabel('Frequency')\n",
        "plt.title('Distribution of Car Prices')\n",
        "plt.show()"
      ],
      "metadata": {
        "colab": {
          "base_uri": "https://localhost:8080/",
          "height": 472
        },
        "id": "X9vTWjXaqre5",
        "outputId": "fbb73d13-c3a9-4a4f-d798-065b5e677385"
      },
      "execution_count": null,
      "outputs": [
        {
          "output_type": "display_data",
          "data": {
            "text/plain": [
              "<Figure size 640x480 with 1 Axes>"
            ],
            "image/png": "[encoded data removed]"
          },
          "metadata": {}
        }
      ]
    },
    {
      "cell_type": "markdown",
      "source": [
        "The **plt.scatter()** function generates a scatter plot by taking in two arrays of data, one for each axis of the plot. In this example, the x-axis represents engine size and the y-axis represents horsepower. Each data point is plotted as a point on the graph, with the x and y values determining its position.\n",
        "\n"
      ],
      "metadata": {
        "id": "Uy0thA1rBLRA"
      }
    },
    {
      "cell_type": "code",
      "source": [
        "# Scatterplot of engine size vs. horsepower\n",
        "plt.scatter(auto_df['engine-size'], auto_df['horsepower'])\n",
        "plt.xlabel('Engine Size')\n",
        "plt.ylabel('Horsepower')\n",
        "plt.title('Engine Size vs. Horsepower')\n",
        "plt.show()"
      ],
      "metadata": {
        "colab": {
          "base_uri": "https://localhost:8080/",
          "height": 472
        },
        "id": "GQpvUEWC68rP",
        "outputId": "71670df6-c896-4e7f-b95d-c7020ca3d771"
      },
      "execution_count": null,
      "outputs": [
        {
          "output_type": "display_data",
          "data": {
            "text/plain": [
              "<Figure size 640x480 with 1 Axes>"
            ],
            "image/png": "[encoded data removed]"
          },
          "metadata": {}
        }
      ]
    },
    {
      "cell_type": "markdown",
      "source": [
        "The **sns.boxplot()** function generates a box plot by taking in a DataFrame (data) and specifying the variables to be plotted on the x-axis (x) and y-axis (y). In this example, the x-axis represents body-style and the y-axis represents price. The resulting plot shows the distribution of prices for each body style, with a box representing the interquartile range (IQR) of the data, whiskers extending to the most extreme data points within 1.5 times the IQR, and any data points outside this range plotted as individual points or outliers."
      ],
      "metadata": {
        "id": "8jVe01eUBq86"
      }
    },
    {
      "cell_type": "code",
      "source": [
        "# Boxplot of price vs. body-style:\n",
        "sns.boxplot(x='body-style', y='price', data=auto_df)"
      ],
      "metadata": {
        "colab": {
          "base_uri": "https://localhost:8080/",
          "height": 466
        },
        "id": "j2z1F06s7WdM",
        "outputId": "6211b354-c409-4332-a2d4-500b2461ba10"
      },
      "execution_count": null,
      "outputs": [
        {
          "output_type": "execute_result",
          "data": {
            "text/plain": [
              "<Axes: xlabel='body-style', ylabel='price'>"
            ]
          },
          "metadata": {},
          "execution_count": 94
        },
        {
          "output_type": "display_data",
          "data": {
            "text/plain": [
              "<Figure size 640x480 with 1 Axes>"
            ],
            "image/png": "[encoded data removed]"
          },
          "metadata": {}
        }
      ]
    },
    {
      "cell_type": "markdown",
      "source": [
        "The **sns.scatterplot()** function generates a scatter plot by taking in a DataFrame (data) and specifying the variables to be plotted on the x-axis (x) and y-axis (y). In this example, the x-axis represents horsepower and the y-axis represents price. The hue parameter is used to specify a categorical variable (fuel-type) to be used for coloring the data points. Each unique value of the fuel-type variable is assigned a different color, allowing for easy visual comparison of the data across different categories."
      ],
      "metadata": {
        "id": "hFYCJ7WlBu9b"
      }
    },
    {
      "cell_type": "code",
      "source": [
        "# Scatterplot of horsepower vs. price colored by fuel-type:\n",
        "\n",
        "sns.scatterplot(x='horsepower', y='price', hue='fuel-type', data=auto_df)\n"
      ],
      "metadata": {
        "colab": {
          "base_uri": "https://localhost:8080/",
          "height": 466
        },
        "id": "Rr5MfoaS7Wpb",
        "outputId": "79abe03f-7632-4dde-91aa-072b369cef59"
      },
      "execution_count": null,
      "outputs": [
        {
          "output_type": "execute_result",
          "data": {
            "text/plain": [
              "<Axes: xlabel='horsepower', ylabel='price'>"
            ]
          },
          "metadata": {},
          "execution_count": 95
        },
        {
          "output_type": "display_data",
          "data": {
            "text/plain": [
              "<Figure size 640x480 with 1 Axes>"
            ],
            "image/png": "[encoded data removed]"
          },
          "metadata": {}
        }
      ]
    },
    {
      "cell_type": "markdown",
      "source": [
        "The **sns.histplot()** function generates a histogram by taking in a DataFrame (data) and specifying the variable to be plotted on the x-axis (x). In this case, the x-axis represents city-mpg."
      ],
      "metadata": {
        "id": "74kjW3PjB5lZ"
      }
    },
    {
      "cell_type": "code",
      "source": [
        "# Histogram of city-mpg:\n",
        "\n",
        "sns.histplot(x='city-mpg', data=auto_df)"
      ],
      "metadata": {
        "colab": {
          "base_uri": "https://localhost:8080/",
          "height": 466
        },
        "id": "w9p0Gk037W0S",
        "outputId": "ef4c40b2-6024-4c6e-e113-e1c5fb71f6e6"
      },
      "execution_count": null,
      "outputs": [
        {
          "output_type": "execute_result",
          "data": {
            "text/plain": [
              "<Axes: xlabel='city-mpg', ylabel='Count'>"
            ]
          },
          "metadata": {},
          "execution_count": 97
        },
        {
          "output_type": "display_data",
          "data": {
            "text/plain": [
              "<Figure size 640x480 with 1 Axes>"
            ],
            "image/png": "[encoded data removed]"
          },
          "metadata": {}
        }
      ]
    },
    {
      "cell_type": "markdown",
      "source": [
        "**Conclusion**"
      ],
      "metadata": {
        "id": "M_yUYtlwB9Ov"
      }
    },
    {
      "cell_type": "markdown",
      "source": [
        "In conclusion, the exploratory data analysis (EDA) performed on the automobile dataset provided valuable insights into the characteristics of the dataset. 🚗📊\n",
        "\n",
        "The initial analysis included data cleaning, where missing values were replaced with appropriate values and irrelevant columns were dropped. The data was then explored using various data visualization techniques, such as histograms, scatter plots, and box plots. 🧹🔍📈\n",
        "\n",
        "The histograms showed that the price variable had a skewed distribution, with the majority of the car prices being below $20,000. The scatter plots showed that there was a positive correlation between engine-size and horsepower, and a negative correlation between city-mpg and highway-mpg. The box plots showed that the median price of cars with hardtop and convertible body styles was higher than that of other body styles. 📉📈📊\n",
        "\n",
        "Overall, the EDA provided valuable insights into the relationships between variables in the dataset, and helped to identify patterns and trends that could be further explored in subsequent analysis. It also highlighted areas that may require further investigation, such as outliers and missing values. The results of this EDA can be used to inform further analysis or decision-making in the context of the automobile industry. 💡🔎👨‍💼"
      ],
      "metadata": {
        "id": "8eAFakLaB_g1"
      }
    },
    {
      "cell_type": "markdown",
      "source": [
        "Data visualization is an important step in the exploratory data analysis (EDA) process, which involves visually exploring and understanding the structure, patterns, and relationships in a dataset. The process of data visualization typically involves creating various types of graphical representations, such as scatter plots, histograms, bar charts, and heat maps, to visualize different aspects of the data.\n",
        "\n",
        "Overall, data visualization is a powerful tool in the EDA process, allowing analysts to gain insights and understanding from complex datasets through graphical representations. Effective data visualization can help to communicate findings clearly and convincingly, leading to better decision-making and more impactful data science projects."
      ],
      "metadata": {
        "id": "mmsCtzZb_yNM"
      }
    },
    {
      "cell_type": "markdown",
      "source": [
        "##**Data Inspection and Visualization:**"
      ],
      "metadata": {
        "id": "41T_uRR8_bHV"
      }
    },
    {
      "cell_type": "markdown",
      "source": [
        "Questions you are about to analyze are just a few examples to get your thinking process started 🤔. Remember, there are many more possibilities out there waiting to be explored! 🚀 So don't be afraid to come up with your own investigative questions and let your curiosity guide you. Happy exploring! 🕵️‍♀️🕵️‍♂️"
      ],
      "metadata": {
        "id": "gn97CBm7CTeC"
      }
    },
    {
      "cell_type": "markdown",
      "source": [
        "**🔴PROMPT: Ask the students to come up with thier own investigative questions to solve. Ask them for ideas for analysis during the live class🔴**"
      ],
      "metadata": {
        "id": "qh2O1rjQyfe4"
      }
    },
    {
      "cell_type": "markdown",
      "source": [
        "## <b> 1. How does the fuel economy (city-mpg and highway-mpg) vary between different body styles and fuel types? Which body style and fuel type have the highest and lowest fuel economy?"
      ],
      "metadata": {
        "id": "lX-IpQH8gPB0"
      }
    },
    {
      "cell_type": "code",
      "source": [
        "import matplotlib.pyplot as plt\n",
        "import seaborn as sns\n",
        "\n",
        "tidy_df = df.melt(id_vars='body-style', value_vars=['city-mpg', 'highway-mpg'])\n",
        "sns.boxplot(data=tidy_df, x='body-style', y='value', hue='variable')\n",
        "\n"
      ],
      "metadata": {
        "colab": {
          "base_uri": "https://localhost:8080/",
          "height": 466
        },
        "id": "t0QIXf2g7o8g",
        "outputId": "89cb5287-cb4e-451c-b1a2-a0954e23b7cc"
      },
      "execution_count": null,
      "outputs": [
        {
          "output_type": "execute_result",
          "data": {
            "text/plain": [
              "<Axes: xlabel='body-style', ylabel='value'>"
            ]
          },
          "metadata": {},
          "execution_count": 23
        },
        {
          "output_type": "display_data",
          "data": {
            "text/plain": [
              "<Figure size 640x480 with 1 Axes>"
            ],
            "image/png": "[encoded data removed]"
          },
          "metadata": {}
        }
      ]
    },
    {
      "cell_type": "markdown",
      "source": [
        "##<b>2. Is there a correlation between engine size and horsepower? How does engine size and horsepower vary across different makes and models?\n",
        "\n"
      ],
      "metadata": {
        "id": "gjwGevZGiPEs"
      }
    },
    {
      "cell_type": "code",
      "source": [
        "# sns.heatmap(data=auto_df[['engine-size','horsepower']].corr(),annot=True,cmap='coolwarm')\n",
        "long_df=df.melt(id_vars='make',value_vars=['engine-size','horsepower'])\n",
        "sns.barplot(long_df,x='make',y='value',hue='variable')\n",
        "plt.xticks(rotation=90)\n",
        "plt.show()"
      ],
      "metadata": {
        "id": "isPuJ7NycNTr",
        "colab": {
          "base_uri": "https://localhost:8080/",
          "height": 611
        },
        "outputId": "678eed54-8676-432a-f25b-c5127532ea7e"
      },
      "execution_count": null,
      "outputs": [
        {
          "output_type": "stream",
          "name": "stderr",
          "text": [
            "/usr/local/lib/python3.10/dist-packages/seaborn/algorithms.py:98: RuntimeWarning: Mean of empty slice\n",
            "  boot_dist.append(f(*sample, **func_kwargs))\n",
            "/usr/local/lib/python3.10/dist-packages/numpy/lib/nanfunctions.py:1560: RuntimeWarning: All-NaN slice encountered\n",
            "  r, k = function_base._ureduce(a,\n"
          ]
        },
        {
          "output_type": "display_data",
          "data": {
            "text/plain": [
              "<Figure size 640x480 with 1 Axes>"
            ],
            "image/png": "[encoded data removed]"
          },
          "metadata": {}
        }
      ]
    },
    {
      "cell_type": "markdown",
      "source": [
        "##<b>3. How does the length, width, and height of the car vary between different body styles and makes? Which make and body style has the largest and smallest dimensions?\n",
        "\n"
      ],
      "metadata": {
        "id": "EGDEd8zyipa6"
      }
    },
    {
      "cell_type": "code",
      "source": [
        "#Your Code Here\n"
      ],
      "metadata": {
        "id": "zevC-eaPcSXc",
        "colab": {
          "base_uri": "https://localhost:8080/"
        },
        "outputId": "4a99279e-41ba-459f-c5d7-dd3a1085b74a"
      },
      "execution_count": null,
      "outputs": [
        {
          "output_type": "stream",
          "name": "stdout",
          "text": [
            "<class 'pandas.core.frame.DataFrame'>\n",
            "Int64Index: 181 entries, 0 to 204\n",
            "Data columns (total 26 columns):\n",
            " #   Column             Non-Null Count  Dtype  \n",
            "---  ------             --------------  -----  \n",
            " 0   symboling          181 non-null    int64  \n",
            " 1   normalized-losses  181 non-null    float64\n",
            " 2   make               181 non-null    object \n",
            " 3   fuel-type          181 non-null    object \n",
            " 4   aspiration         181 non-null    object \n",
            " 5   num-of-doors       179 non-null    object \n",
            " 6   body-style         181 non-null    object \n",
            " 7   drive-wheels       181 non-null    object \n",
            " 8   engine-location    181 non-null    object \n",
            " 9   wheel-base         181 non-null    float64\n",
            " 10  length             181 non-null    float64\n",
            " 11  width              181 non-null    float64\n",
            " 12  height             181 non-null    float64\n",
            " 13  curb-weight        181 non-null    int64  \n",
            " 14  engine-type        181 non-null    object \n",
            " 15  num-of-cylinders   181 non-null    object \n",
            " 16  engine-size        181 non-null    int64  \n",
            " 17  fuel-system        181 non-null    object \n",
            " 18  bore               177 non-null    float64\n",
            " 19  stroke             177 non-null    float64\n",
            " 20  compression-ratio  181 non-null    float64\n",
            " 21  horsepower         179 non-null    float64\n",
            " 22  peak-rpm           179 non-null    float64\n",
            " 23  city-mpg           181 non-null    int64  \n",
            " 24  highway-mpg        181 non-null    int64  \n",
            " 25  price              181 non-null    float64\n",
            "dtypes: float64(11), int64(5), object(10)\n",
            "memory usage: 38.2+ KB\n"
          ]
        }
      ]
    },
    {
      "cell_type": "markdown",
      "source": [
        "##<b>4. How does the price of the car vary with respect to its drivetrain (4WD or 2WD)? Is there a difference in price between cars with 4WD and 2WD?\n"
      ],
      "metadata": {
        "id": "XOOXVahjjCy4"
      }
    },
    {
      "cell_type": "code",
      "source": [
        "#Your Code Here\n"
      ],
      "metadata": {
        "id": "t5qluoZTcVLr"
      },
      "execution_count": null,
      "outputs": []
    },
    {
      "cell_type": "markdown",
      "source": [
        "##<b>5. Is there a correlation between curb weight and fuel economy (city-mpg and highway-mpg)? How does curb weight vary across different body styles and makes?\n",
        "\n"
      ],
      "metadata": {
        "id": "9jG-8OJxk359"
      }
    },
    {
      "cell_type": "markdown",
      "source": [
        "Correlation is a statistical measure that describes the degree of association between two variables. It measures how strongly two variables are related and the direction of their relationship, whether positive or negative.\n",
        "\n",
        "In Python, we can use the pandas library to calculate correlation between variables. Here is an example code snippet\n",
        "\n",
        "\n",
        "\n",
        "```\n",
        "# calculate the correlation matrix of all features\n",
        "corr_matrix = data.corr()\n",
        "\n",
        "# calculate the correlation between two features\n",
        "feature1 = 'column_name_1'\n",
        "feature2 = 'column_name_2'\n",
        "corr = data[feature1].corr(data[feature2])\n",
        "\n",
        "#Multiple features\n",
        "features = ['column_name_1', 'column_name_2', 'column_name_3']\n",
        "corr_matrix = data[features].corr()\n",
        "```\n",
        "\n"
      ],
      "metadata": {
        "id": "j1Xo7xQj14IK"
      }
    },
    {
      "cell_type": "markdown",
      "source": [
        "To explore the correlation between curb weight and fuel economy (city-mpg and highway-mpg), we can use scatterplots and correlation coefficients.\n",
        "\n"
      ],
      "metadata": {
        "id": "J4hJOHd4lWGK"
      }
    },
    {
      "cell_type": "code",
      "source": [
        "#Your Code Here"
      ],
      "metadata": {
        "id": "M7PyfjdxcaV5"
      },
      "execution_count": null,
      "outputs": []
    },
    {
      "cell_type": "markdown",
      "source": [
        "##<b>Conclusion"
      ],
      "metadata": {
        "id": "kMC6Q6IODLS6"
      }
    },
    {
      "cell_type": "markdown",
      "source": [
        "Congratulations! 🎉🎉🎉\n",
        "You have completed the lesson on Exploratory Data Analysis (EDA) on the ICL Machine learning repository's automobile dataset. This case study has provided you with a solid foundation in EDA techniques, which will be helpful in your upcoming EDA project. By analyzing this dataset, you have gained a deeper understanding of the key features and patterns that can be extracted from data.\n",
        "\n",
        "As you move forward in your EDA project, keep in mind that this is just the beginning. There are many more datasets out there waiting to be explored, and countless questions waiting to be answered. With curiosity, creativity, and persistence, you can uncover insights and solutions that can make a real difference in the world.\n",
        "\n",
        "**List of general instructions for EDA:**\n",
        "\n",
        "1️⃣ Start with cleaning and preprocessing the data\n",
        "\n",
        "2️⃣ Identify the variables and their types\n",
        "\n",
        "3️⃣ Analyze the distribution of each variable\n",
        "\n",
        "4️⃣ Look for patterns and correlations among the variables\n",
        "\n",
        "5️⃣ Visualize the data using various graphs and plots\n",
        "\n",
        "6️⃣ Draw insights and conclusions based on the analysis\n",
        "\n",
        "7️⃣ Always be curious and ask more questions to explore the data further. 🤔"
      ],
      "metadata": {
        "id": "ENn2jC5wDP7H"
      }
    },
    {
      "cell_type": "markdown",
      "metadata": {
        "id": "nZlODtvdzzLT"
      },
      "source": [
        "# **✅ Summary ✅**"
      ]
    },
    {
      "cell_type": "markdown",
      "metadata": {
        "id": "MPF9tgRkz4MX"
      },
      "source": [
        "🎓 What did you learn?\n",
        "\n",
        "📚 You learned about the importance of exploratory data analysis (EDA) and its role in data analysis.\n",
        "\n",
        "📊 You learned how to explore and analyze a real-world dataset using Python programming language and its data analysis libraries such as Pandas, NumPy, and Matplotlib.\n",
        "\n",
        "🧹 You learned various EDA techniques including data cleaning, data preprocessing, feature engineering, data visualization, and statistical analysis.\n",
        "\n",
        "💡 You learned how to interpret and communicate insights and inferences derived from the data analysis, and use them to draw meaningful conclusions.\n",
        "\n",
        "🤔 Through this lesson, you developed critical thinking and problem-solving skills required for data analysis in various domains such as business, finance, healthcare, and social sciences.\n",
        "\n",
        "👨‍💻 You also had a hands-on experience with the EDA process and gained confidence in working with real-world datasets."
      ]
    },
    {
      "cell_type": "markdown",
      "metadata": {
        "id": "_-is4m2fz5FJ"
      },
      "source": [
        "# **➕ Additional Reading ➕**"
      ]
    },
    {
      "cell_type": "markdown",
      "metadata": {
        "id": "cFOvJi2gz-vZ"
      },
      "source": [
        "**Mnemonic**\n",
        "\n",
        "\n",
        "👩‍💻 Once upon a time, there were three friends - Tom, Jane, and Mark. They were all data enthusiasts and loved exploring new datasets. One day, they stumbled upon the 🚗 Automobile Dataset 📊, and decided to apply the concepts they learned in their EDA class to solve a set of tasks.\n",
        "\n",
        "🧹 Task 1 - Data Cleaning: As they explored the dataset, they realized that it had some missing values and outliers 🤔. They used their data cleaning skills to remove the null values and replace the outliers with suitable values. 🧐\n",
        "\n",
        "🔍 Task 2 - Data Exploration: Next, they used various data exploration techniques to gain insights into the dataset. They visualized the relationships between different variables using scatter plots, histograms, and heatmaps. 📈📊\n",
        "\n",
        "🔎 Task 3 - Investigation: They then conducted a detailed investigation of the dataset to uncover any patterns or correlations between different variables. They used statistical techniques like correlation analysis and hypothesis testing to validate their findings. 🕵️‍♀️📉\n",
        "\n",
        "💡 Task 4 - Forming Inferences: Finally, they used their critical thinking and problem-solving skills to draw meaningful conclusions from the data analysis. They identified the key factors that affect the price of a car, and recommended some strategies to improve the sales of cars. 🤓💰\n",
        "\n",
        "🎉 In the end, Tom, Jane, and Mark were thrilled with their analysis and couldn't wait to explore more datasets using the skills they learned in their EDA class. 🚀\n",
        "\n",
        "\n",
        "\n",
        "\n",
        "\n"
      ]
    },
    {
      "cell_type": "markdown",
      "source": [
        "**Best Practices/Tips**\n",
        "\n",
        "👩‍💻 Start with a clear problem statement or research question in mind. This will guide your analysis and help you focus on the relevant variables.\n",
        "\n",
        "🧹 Always clean and preprocess your data before starting the analysis. This includes handling missing values, outliers, and data inconsistencies.\n",
        "\n",
        "🔍 Use a variety of data exploration techniques to gain insights into the dataset. Visualize the relationships between variables using scatter plots, histograms, and heatmaps.\n",
        "\n",
        "🔎 Conduct a detailed investigation of the dataset to uncover any patterns or correlations between different variables. Use statistical techniques like correlation analysis and hypothesis testing to validate your findings.\n",
        "\n",
        "💡 Form meaningful inferences from your analysis. Use your critical thinking and problem-solving skills to draw conclusions that are relevant and actionable.\n",
        "\n",
        "📊 Communicate your findings effectively using data visualization techniques like charts, graphs, and tables. This will help your audience understand your analysis and recommendations.\n",
        "\n",
        "🚀 Keep practicing and exploring new datasets to continue enhancing your data analysis skills. There's always something new to learn in the world of data!\n"
      ],
      "metadata": {
        "id": "6CFvVCH1SnOH"
      }
    },
    {
      "cell_type": "markdown",
      "source": [
        "**Shortcomings**\n",
        "\n",
        "🤔 Biases and Confounding Variables: EDA can be impacted by biases and confounding variables that are present in the dataset. It's important to be aware of these factors and take them into consideration during the analysis.\n",
        "\n",
        "👀 Limited Scope: EDA may be limited by the scope of the dataset, and may not be able to provide a comprehensive understanding of the problem or research question at hand.\n",
        "\n",
        "🧪 Small Sample Size: EDA conducted on a small sample size may not be representative of the larger population, and can result in inaccurate or biased conclusions.\n",
        "\n",
        "🤷‍♀️ Missing Data: EDA may be impacted by missing data that cannot be accurately imputed or estimated, which can lead to incomplete or inaccurate analysis.\n",
        "\n",
        "📊 Limited Statistical Power: EDA conducted without appropriate statistical techniques or power may result in weak or inconclusive findings.\n",
        "\n",
        "🕵️‍♀️ Limited Causality: EDA is exploratory in nature and cannot establish causality between variables, as it cannot control for all the variables that may impact the relationship between the variables of interest.\n",
        "\n",
        "📉 Limited Predictive Power: EDA may not be able to provide accurate predictions or forecasts of future outcomes, as it focuses on exploring past data.\n",
        "\n",
        "🚫 Data Privacy and Security: EDA can pose privacy and security risks if sensitive or personal information is present in the dataset. It's important to ensure that appropriate measures are taken to protect the data and maintain confidentiality.\n",
        "\n",
        "\n",
        "\n",
        "\n"
      ],
      "metadata": {
        "id": "gHJ3pN1wS2gO"
      }
    }
  ]
}